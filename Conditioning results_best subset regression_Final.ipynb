{
 "cells": [
  {
   "cell_type": "code",
   "execution_count": 2,
   "metadata": {},
   "outputs": [],
   "source": [
    "import pandas as pd\n",
    "from sklearn.linear_model import LinearRegression\n",
    "from sklearn.model_selection import cross_val_score, ShuffleSplit, RepeatedKFold\n",
    "import numpy as np\n",
    "from itertools import combinations\n",
    "import statsmodels.api as sm\n",
    "import statsmodels.tools as st\n",
    "from statsmodels.stats.outliers_influence import variance_inflation_factor\n",
    "import time\n",
    "import matplotlib.pyplot as plt\n",
    "import pprint\n",
    "import statistics\n",
    "import time\n",
    "%matplotlib inline"
   ]
  },
  {
   "cell_type": "code",
   "execution_count": 40,
   "metadata": {},
   "outputs": [],
   "source": [
    "response = 'rheomix final deg time min'\n",
    "# response = 'rheomix stability time min'"
   ]
  },
  {
   "cell_type": "code",
   "execution_count": 41,
   "metadata": {},
   "outputs": [],
   "source": [
    "file1 = 'Total_model_subset_{}_AIC_BIC_AICc.csv'.format(response)\n",
    "df_AIC = pd.read_csv(file1)"
   ]
  },
  {
   "cell_type": "code",
   "execution_count": 56,
   "metadata": {},
   "outputs": [],
   "source": [
    "CN_lim = 1500\n",
    "VIF_lim = 100"
   ]
  },
  {
   "cell_type": "code",
   "execution_count": 57,
   "metadata": {},
   "outputs": [],
   "source": [
    "df_AIC_filter = df_AIC[(df_AIC['Cond_No'] < CN_lim)].copy()\n",
    "df_AIC_filter2 = df_AIC_filter[(df_AIC_filter['AICc'] == df_AIC_filter['AICc'].min())].copy()"
   ]
  },
  {
   "cell_type": "code",
   "execution_count": 58,
   "metadata": {},
   "outputs": [],
   "source": [
    "def import_data(experimental_file, response_file, response):\n",
    "    'imports data'\n",
    "    'experimental_file = experimental design csv filename i.e experimental.csv'\n",
    "    'response_file = results csv filename i.e Response.csv'\n",
    "    'response = reponse name: i.e rheomix final deg time min or rheomix stability time min'\n",
    "    \n",
    "    experimental_df = pd.read_csv(experimental_file)\n",
    "    response_df = pd.read_csv(response_file)\n",
    "    \n",
    "    X = experimental_df[experimental_df.columns.values.tolist()[1:]].values\n",
    "    y = response_df[response].values\n",
    "    max1 = max(y)\n",
    "    min1 = min(y)\n",
    "\n",
    "    y_norm = [2*((i-min1)/(max1-min1)) - 1 for i in y]\n",
    "    \n",
    "    \n",
    "    X_linear = X\n",
    "    linear_terms = experimental_df.columns.values.tolist()[1:]\n",
    "    \n",
    "    return y_norm, X_linear, linear_terms, experimental_df, response_df\n",
    "\n",
    "def X_gen(model, X_linear):\n",
    "    \n",
    "    for i, j in enumerate(model):\n",
    "        \n",
    "        if i == 0 and len(j) == 2: \n",
    "            X_new = X_linear[:, model[0][1]]\n",
    "        \n",
    "        else:\n",
    "            \n",
    "            if len(j) == 2:\n",
    "                add = X_linear[:, j[1]]\n",
    "\n",
    "            if len(j) == 3:\n",
    "                add = X_linear[:, j[1]]*X_linear[:, j[2]]\n",
    "\n",
    "            X_new2 = np.column_stack((X_new, add))\n",
    "            X_new = X_new2\n",
    "\n",
    "    \n",
    "    return X_new"
   ]
  },
  {
   "cell_type": "code",
   "execution_count": 59,
   "metadata": {},
   "outputs": [
    {
     "name": "stdout",
     "output_type": "stream",
     "text": [
      "Model:   --Xpvc--Xfiller--Xstabiliser--Xdinp--Xldh--Xstabiliser*Xldh--Xdinp*Xldh-- \n",
      "\n",
      "VIF:  49.76600214772193 \n",
      "\n",
      "COND:  1493.511191412442 \n",
      "\n",
      "AICc:  16.53370090020981\n",
      "                                 OLS Regression Results                                \n",
      "=======================================================================================\n",
      "Dep. Variable:                      y   R-squared (uncentered):                   0.886\n",
      "Model:                            OLS   Adj. R-squared (uncentered):              0.866\n",
      "Method:                 Least Squares   F-statistic:                              43.51\n",
      "Date:                Sun, 24 Oct 2021   Prob (F-statistic):                    1.76e-16\n",
      "Time:                        11:45:59   Log-Likelihood:                         0.20683\n",
      "No. Observations:                  46   AIC:                                      13.59\n",
      "Df Residuals:                      39   BIC:                                      26.39\n",
      "Df Model:                           7                                                  \n",
      "Covariance Type:            nonrobust                                                  \n",
      "==============================================================================\n",
      "                 coef    std err          t      P>|t|      [0.025      0.975]\n",
      "------------------------------------------------------------------------------\n",
      "x1            -1.2401      0.453     -2.737      0.009      -2.156      -0.324\n",
      "x2            -0.6730      0.421     -1.600      0.118      -1.524       0.178\n",
      "x3             8.3295      4.237      1.966      0.056      -0.240      16.899\n",
      "x4            -1.5095      0.857     -1.761      0.086      -3.244       0.225\n",
      "x5            -7.0130      6.117     -1.146      0.259     -19.386       5.361\n",
      "x6          -278.1469     99.508     -2.795      0.008    -479.422     -76.872\n",
      "x7           106.5174     23.086      4.614      0.000      59.821     153.214\n",
      "==============================================================================\n",
      "Omnibus:                       11.296   Durbin-Watson:                   1.180\n",
      "Prob(Omnibus):                  0.004   Jarque-Bera (JB):               11.551\n",
      "Skew:                           0.964   Prob(JB):                      0.00310\n",
      "Kurtosis:                       4.520   Cond. No.                     1.49e+03\n",
      "==============================================================================\n",
      "\n",
      "Warnings:\n",
      "[1] Standard Errors assume that the covariance matrix of the errors is correctly specified.\n",
      "[2] The condition number is large, 1.49e+03. This might indicate that there are\n",
      "strong multicollinearity or other numerical problems.\n"
     ]
    }
   ],
   "source": [
    "dict1 = {'Xpvc': 0, 'Xfiller': 1, 'Xfr': 2, 'Xstabiliser': 3, 'Xdinp': 4, 'Xldh':5, \"Xsph\": 6}\n",
    "\n",
    "experimental_file = 'experimental.csv'\n",
    "response_file = 'Response.csv'\n",
    "\n",
    "y, X_linear, linear_terms, experimental_df, response_df = import_data(experimental_file, response_file, response)\n",
    "\n",
    "model = df_AIC_filter2['Model'].values[0]\n",
    "\n",
    "    \n",
    "cnt = 0                  \n",
    "a = model.split('--')[1:-1]\n",
    "i = []\n",
    "for b in a:\n",
    "    if len(b.split('*')) == 1:\n",
    "        i.append([b, dict1[b]])\n",
    "    else:\n",
    "        i.append([b, dict1[b.split('*')[0]], dict1[b.split('*')[1]]])\n",
    "\n",
    "X = X_gen(i, X_linear)\n",
    "\n",
    "model_fit = sm.OLS(y, X)\n",
    "results = model_fit.fit()\n",
    "variables = model_fit.exog\n",
    "COND = results.condition_number\n",
    "AIC = st.eval_measures.aicc(results.llf, results.nobs, results.df_model)\n",
    "if len(i) != 1:\n",
    "\n",
    "    vif = [variance_inflation_factor(variables, m) for m in range(variables.shape[1])]\n",
    "    vif_max = max(vif)\n",
    "\n",
    "else:\n",
    "    vif_max = 0\n",
    "\n",
    "print('Model:  ',model, '\\n\\nVIF: ', vif_max, '\\n\\nCOND: ', COND, '\\n\\nAICc: ', AIC)\n",
    "print(results.summary())"
   ]
  },
  {
   "cell_type": "code",
   "execution_count": 50,
   "metadata": {},
   "outputs": [
    {
     "data": {
      "text/html": [
       "<div>\n",
       "<style scoped>\n",
       "    .dataframe tbody tr th:only-of-type {\n",
       "        vertical-align: middle;\n",
       "    }\n",
       "\n",
       "    .dataframe tbody tr th {\n",
       "        vertical-align: top;\n",
       "    }\n",
       "\n",
       "    .dataframe thead th {\n",
       "        text-align: right;\n",
       "    }\n",
       "</style>\n",
       "<table border=\"1\" class=\"dataframe\">\n",
       "  <thead>\n",
       "    <tr style=\"text-align: right;\">\n",
       "      <th></th>\n",
       "      <th>Unnamed: 0</th>\n",
       "      <th>Unnamed: 0.1</th>\n",
       "      <th>Model</th>\n",
       "      <th>No_terms</th>\n",
       "      <th>AIC</th>\n",
       "      <th>AICc</th>\n",
       "      <th>BIC</th>\n",
       "      <th>Cond_No</th>\n",
       "    </tr>\n",
       "  </thead>\n",
       "  <tbody>\n",
       "    <tr>\n",
       "      <th>44</th>\n",
       "      <td>44</td>\n",
       "      <td>44</td>\n",
       "      <td>--Xdinp--Xldh--Xdinp*Xldh--</td>\n",
       "      <td>3</td>\n",
       "      <td>19.928825</td>\n",
       "      <td>20.500253</td>\n",
       "      <td>25.414749</td>\n",
       "      <td>80.747958</td>\n",
       "    </tr>\n",
       "  </tbody>\n",
       "</table>\n",
       "</div>"
      ],
      "text/plain": [
       "    Unnamed: 0  Unnamed: 0.1                        Model  No_terms  \\\n",
       "44          44            44  --Xdinp--Xldh--Xdinp*Xldh--         3   \n",
       "\n",
       "          AIC       AICc        BIC    Cond_No  \n",
       "44  19.928825  20.500253  25.414749  80.747958  "
      ]
     },
     "execution_count": 50,
     "metadata": {},
     "output_type": "execute_result"
    }
   ],
   "source": [
    "df_AIC_filter2"
   ]
  },
  {
   "cell_type": "code",
   "execution_count": null,
   "metadata": {},
   "outputs": [],
   "source": []
  }
 ],
 "metadata": {
  "kernelspec": {
   "display_name": "Python 3",
   "language": "python",
   "name": "python3"
  },
  "language_info": {
   "codemirror_mode": {
    "name": "ipython",
    "version": 3
   },
   "file_extension": ".py",
   "mimetype": "text/x-python",
   "name": "python",
   "nbconvert_exporter": "python",
   "pygments_lexer": "ipython3",
   "version": "3.7.4"
  }
 },
 "nbformat": 4,
 "nbformat_minor": 4
}
