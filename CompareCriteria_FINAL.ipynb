{
 "cells": [
  {
   "cell_type": "code",
   "execution_count": 49,
   "metadata": {},
   "outputs": [],
   "source": [
    "import pandas as pd\n",
    "from sklearn.linear_model import LinearRegression\n",
    "from sklearn.model_selection import cross_val_score, ShuffleSplit, RepeatedKFold\n",
    "import numpy as np\n",
    "from itertools import combinations\n",
    "import statsmodels.api as sm\n",
    "import statsmodels.tools as st\n",
    "from statsmodels.stats.outliers_influence import variance_inflation_factor\n",
    "import time\n",
    "import matplotlib.pyplot as plt\n",
    "import pprint\n",
    "import statistics\n",
    "import time\n",
    "%matplotlib inline"
   ]
  },
  {
   "cell_type": "code",
   "execution_count": 64,
   "metadata": {},
   "outputs": [],
   "source": [
    "# response = 'rheomix final deg time min'\n",
    "response = 'rheomix stability time min'\n",
    "\n",
    "redo = 5\n",
    "rorder = 1"
   ]
  },
  {
   "cell_type": "code",
   "execution_count": 65,
   "metadata": {},
   "outputs": [],
   "source": [
    "if response == 'rheomix final deg time min':\n",
    "    K_set = 'k20'\n",
    "    K_num = 20\n",
    "elif response == 'rheomix stability time min':\n",
    "    K_set = 'LOO'\n",
    "    K_num = 46"
   ]
  },
  {
   "cell_type": "code",
   "execution_count": 66,
   "metadata": {},
   "outputs": [],
   "source": [
    "file1 = 'Total_model_subset_{}_Kfold_{}.csv'.format(response, K_set)\n",
    "df_kfold = pd.read_csv(file1)"
   ]
  },
  {
   "cell_type": "code",
   "execution_count": 67,
   "metadata": {},
   "outputs": [],
   "source": [
    "file1 = 'Total_model_subset_{}_AIC_BIC_AICc.csv'.format(response)\n",
    "df_template = pd.read_csv(file1)"
   ]
  },
  {
   "cell_type": "code",
   "execution_count": 68,
   "metadata": {},
   "outputs": [],
   "source": [
    "model_kfold = df_kfold['Model'][df_kfold[K_set].argmax()]\n",
    "model_AICc = df_template['Model'][df_template.AICc.argmin()]\n",
    "model_BIC = df_template['Model'][df_template.BIC.argmin()]\n",
    "model_AIC = df_template['Model'][df_template.AIC.argmin()]\n",
    "model_list1 = [model_AICc, model_BIC, model_AIC]\n",
    "\n",
    "\n",
    "k_kfold = 1+df_kfold[df_kfold['Model'] == model_kfold][K_set].item()"
   ]
  },
  {
   "cell_type": "code",
   "execution_count": 69,
   "metadata": {},
   "outputs": [],
   "source": [
    "def import_data(experimental_file, response_file, response):\n",
    "    'imports data'\n",
    "    'experimental_file = experimental design csv filename i.e experimental.csv'\n",
    "    'response_file = results csv filename i.e Response.csv'\n",
    "    'response = reponse name: i.e rheomix final deg time min or rheomix stability time min'\n",
    "    \n",
    "    experimental_df = pd.read_csv(experimental_file)\n",
    "    response_df = pd.read_csv(response_file)\n",
    "    \n",
    "    X = experimental_df[experimental_df.columns.values.tolist()[1:]].values\n",
    "    y = response_df[response].values\n",
    "    max1 = max(y)\n",
    "    min1 = min(y)\n",
    "\n",
    "    y_norm = [2*((i-min1)/(max1-min1)) - 1 for i in y]\n",
    "    \n",
    "    \n",
    "    X_linear = X\n",
    "    linear_terms = experimental_df.columns.values.tolist()[1:]\n",
    "    \n",
    "    return y_norm, X_linear, linear_terms, experimental_df, response_df\n",
    "\n",
    "def X_gen(model, X_linear):\n",
    "    \n",
    "    for i, j in enumerate(model):\n",
    "        \n",
    "        if i == 0 and len(j) == 2: \n",
    "            X_new = X_linear[:, model[0][1]]\n",
    "        \n",
    "        else:\n",
    "            \n",
    "            if len(j) == 2:\n",
    "                add = X_linear[:, j[1]]\n",
    "\n",
    "            if len(j) == 3:\n",
    "                add = X_linear[:, j[1]]*X_linear[:, j[2]]\n",
    "\n",
    "            X_new2 = np.column_stack((X_new, add))\n",
    "            X_new = X_new2\n",
    "\n",
    "    \n",
    "    return X_new"
   ]
  },
  {
   "cell_type": "code",
   "execution_count": 70,
   "metadata": {},
   "outputs": [],
   "source": [
    "dict1 = {'Xpvc': 0, 'Xfiller': 1, 'Xfr': 2, 'Xstabiliser': 3, 'Xdinp': 4, 'Xldh':5, \"Xsph\": 6}\n",
    "\n",
    "experimental_file = 'experimental.csv'\n",
    "response_file = 'Response.csv'\n",
    "\n",
    "y, X_linear, linear_terms, experimental_df, response_df = import_data(experimental_file, response_file, response)\n",
    "y1 = np.array(y)\n",
    "\n",
    "models_list = np.array(model_list1)\n",
    "score_list = []\n",
    "\n",
    "if K_set == 'LOO':\n",
    "    redo1 = 1\n",
    "else:\n",
    "    redo1 = redo\n",
    "\n",
    "for model in models_list:\n",
    "\n",
    "    cnt = 0                  \n",
    "    a = model.split('--')[1:-1]\n",
    "    model_fin = []\n",
    "    for b in a:\n",
    "        if len(b.split('*')) == 1:\n",
    "            model_fin.append([b, dict1[b]])\n",
    "        else:\n",
    "            model_fin.append([b, dict1[b.split('*')[0]], dict1[b.split('*')[1]]])\n",
    "\n",
    "    X = X_gen(model_fin, X_linear)\n",
    "\n",
    "\n",
    "    if len(model_fin) == 1:\n",
    "\n",
    "        X1 = X.reshape(len(X), 1)\n",
    "        model_obj = LinearRegression(fit_intercept=False)\n",
    "        my_cv = RepeatedKFold(n_splits=K_num, random_state= rorder, n_repeats = redo1)\n",
    "\n",
    "        score = cross_val_score(model_obj, X1, y1, cv=my_cv, scoring='neg_mean_squared_error')\n",
    "        av_score = sum(score)/len(score)\n",
    "\n",
    "    else:\n",
    "\n",
    "        model_obj = LinearRegression(fit_intercept=False)\n",
    "        my_cv = RepeatedKFold(n_splits=K_num, random_state= rorder, n_repeats = redo1)\n",
    "\n",
    "        score = cross_val_score(model_obj, X, y1, cv=my_cv, scoring='neg_mean_squared_error')\n",
    "        av_score = sum(score)/len(score)\n",
    "    score_list.append(1+av_score)"
   ]
  },
  {
   "cell_type": "code",
   "execution_count": 71,
   "metadata": {},
   "outputs": [],
   "source": [
    "k_AICc = score_list[0]\n",
    "k_BIC = score_list[1]\n",
    "k_AIC = score_list[2]"
   ]
  },
  {
   "cell_type": "code",
   "execution_count": 72,
   "metadata": {},
   "outputs": [
    {
     "name": "stdout",
     "output_type": "stream",
     "text": [
      "AICc:\n",
      " Model:\n",
      " --Xpvc--Xfiller--Xstabiliser--Xdinp--Xldh--Xfiller*Xldh--Xstabiliser*Xldh--Xdinp*Xldh-- \n",
      "\n",
      "Score:\n",
      " 0.9145384167984768 \n",
      "\n",
      "\n",
      "BIC:\n",
      " Model:\n",
      " --Xpvc--Xfiller--Xstabiliser--Xdinp--Xldh--Xstabiliser*Xldh--Xdinp*Xldh-- \n",
      "\n",
      "Score:\n",
      " 0.9144704588799726 \n",
      "\n",
      "\n",
      "AIC:\n",
      " Model:\n",
      " --Xpvc--Xfiller--Xstabiliser--Xdinp--Xldh--Xfiller*Xldh--Xstabiliser*Xldh--Xdinp*Xldh-- \n",
      "\n",
      "Score:\n",
      " 0.9145384167984768 \n",
      "\n",
      "\n",
      "k10:\n",
      " Model:\n",
      " --Xpvc--Xfiller--Xstabiliser--Xdinp--Xldh--Xfiller*Xldh--Xstabiliser*Xldh--Xdinp*Xldh-- \n",
      "\n",
      "Score:\n",
      " 0.9145384167984768 \n",
      "\n",
      "\n"
     ]
    }
   ],
   "source": [
    "print('AICc:\\n', 'Model:\\n', model_AICc, '\\n\\nScore:\\n', k_AICc, '\\n\\n')\n",
    "print('BIC:\\n', 'Model:\\n', model_BIC, '\\n\\nScore:\\n', k_BIC, '\\n\\n')\n",
    "print('AIC:\\n', 'Model:\\n', model_AIC, '\\n\\nScore:\\n', k_AIC, '\\n\\n')\n",
    "print('k10:\\n', 'Model:\\n', model_kfold, '\\n\\nScore:\\n', k_kfold, '\\n\\n')"
   ]
  },
  {
   "cell_type": "code",
   "execution_count": 73,
   "metadata": {},
   "outputs": [],
   "source": [
    "list_k = [k_BIC, k_AIC, k_AICc, k_kfold]\n",
    "list_name = ['BIC', 'AIC', 'AICc', 'K-fold']"
   ]
  },
  {
   "cell_type": "code",
   "execution_count": 74,
   "metadata": {},
   "outputs": [
    {
     "data": {
      "image/png": "[encoded data removed]",
      "text/plain": [
       "<Figure size 432x288 with 1 Axes>"
      ]
     },
     "metadata": {
      "needs_background": "light"
     },
     "output_type": "display_data"
    }
   ],
   "source": [
    "Ylabel = '1-MSE'\n",
    "Xlabel = 'Criteria'\n",
    "\n",
    "plotVar1label = 'K-fold score (K={})'.format(K_set)\n",
    "# plotVar2label = 'K = 5'\n",
    "# plotVar3label = 'K = 3'\n",
    "\n",
    "LegendLocation = 'best'\n",
    "# LegendLocation = 4\n",
    "Grid = True\n",
    "LegendSize = 12\n",
    "FontSize = 16\n",
    "\n",
    "plt.bar(list_name, list_k, label=plotVar1label, width = 0.6)\n",
    "plt.legend(loc=LegendLocation, numpoints = 1, fontsize=FontSize, prop={'size':LegendSize})\n",
    "\n",
    "if response == 'rheomix final deg time min':\n",
    "    plt.ylim([0.9, 0.93])\n",
    "elif response == 'rheomix stability time min':\n",
    "    plt.ylim([0.912, 0.915])\n",
    "plt.ylabel(Ylabel, fontsize=FontSize)\n",
    "plt.xlabel(Xlabel, fontsize=FontSize)\n",
    "# plt.tick_params(axis='x', labelsize=FontSize)\n",
    "# plt.tick_params(axis='y', labelsize=FontSize)\n",
    "plt.grid(zorder = 0)\n",
    "plt.tight_layout()\n",
    "plt.savefig('Criteria_all_compare_{}.png'.format(response))"
   ]
  },
  {
   "cell_type": "code",
   "execution_count": null,
   "metadata": {},
   "outputs": [],
   "source": []
  }
 ],
 "metadata": {
  "kernelspec": {
   "display_name": "Python 3",
   "language": "python",
   "name": "python3"
  },
  "language_info": {
   "codemirror_mode": {
    "name": "ipython",
    "version": 3
   },
   "file_extension": ".py",
   "mimetype": "text/x-python",
   "name": "python",
   "nbconvert_exporter": "python",
   "pygments_lexer": "ipython3",
   "version": "3.7.4"
  }
 },
 "nbformat": 4,
 "nbformat_minor": 4
}
