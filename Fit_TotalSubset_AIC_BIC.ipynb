{
 "cells": [
  {
   "cell_type": "code",
   "execution_count": 1,
   "metadata": {},
   "outputs": [],
   "source": [
    "import pandas as pd\n",
    "from sklearn.linear_model import LinearRegression\n",
    "from sklearn.model_selection import cross_val_score, ShuffleSplit\n",
    "import numpy as np\n",
    "from itertools import combinations\n",
    "import statsmodels.api as sm\n",
    "import statsmodels.tools as st\n",
    "from statsmodels.stats.outliers_influence import variance_inflation_factor\n",
    "import time\n",
    "import matplotlib.pyplot as plt\n",
    "import pprint\n",
    "import statistics\n",
    "import time\n",
    "from statsmodels.stats.outliers_influence import variance_inflation_factor\n",
    "%matplotlib inline"
   ]
  },
  {
   "cell_type": "code",
   "execution_count": 2,
   "metadata": {},
   "outputs": [],
   "source": [
    "start = time.time()\n",
    "# response = 'rheomix final deg time min'\n",
    "response = 'rheomix stability time min'"
   ]
  },
  {
   "cell_type": "code",
   "execution_count": 3,
   "metadata": {},
   "outputs": [
    {
     "name": "stdout",
     "output_type": "stream",
     "text": [
      "2350601\n"
     ]
    }
   ],
   "source": [
    "file1 = 'Total_model_subset.csv'\n",
    "df_model  = pd.read_csv(file1)\n",
    "col_list = ['AIC', 'AICc', 'BIC', 'Cond_No']\n",
    "for i in col_list:\n",
    "    df_model[i] = ''\n",
    "print(len(df_model))"
   ]
  },
  {
   "cell_type": "code",
   "execution_count": 4,
   "metadata": {},
   "outputs": [],
   "source": [
    "def import_data(experimental_file, response_file, response):\n",
    "    'imports data'\n",
    "    'experimental_file = experimental design csv filename i.e experimental.csv'\n",
    "    'response_file = results csv filename i.e Response.csv'\n",
    "    'response = reponse name: i.e rheomix final deg time min or rheomix stability time min'\n",
    "    \n",
    "    experimental_df = pd.read_csv(experimental_file)\n",
    "    response_df = pd.read_csv(response_file)\n",
    "    \n",
    "    X = experimental_df[experimental_df.columns.values.tolist()[1:]].values\n",
    "    y = response_df[response].values\n",
    "    max1 = max(y)\n",
    "    min1 = min(y)\n",
    "\n",
    "    y_norm = [2*((i-min1)/(max1-min1)) - 1 for i in y]\n",
    "    \n",
    "    \n",
    "    X_linear = X\n",
    "    linear_terms = experimental_df.columns.values.tolist()[1:]\n",
    "    \n",
    "    return y_norm, X_linear, linear_terms, experimental_df, response_df\n",
    "\n",
    "def X_gen(model, X_linear):\n",
    "    \n",
    "    for i, j in enumerate(model):\n",
    "        \n",
    "        if i == 0 and len(j) == 2: \n",
    "            X_new = X_linear[:, model[0][1]]\n",
    "        \n",
    "        else:\n",
    "            \n",
    "            if len(j) == 2:\n",
    "                add = X_linear[:, j[1]]\n",
    "\n",
    "            if len(j) == 3:\n",
    "                add = X_linear[:, j[1]]*X_linear[:, j[2]]\n",
    "\n",
    "            X_new2 = np.column_stack((X_new, add))\n",
    "            X_new = X_new2\n",
    "\n",
    "    \n",
    "    return X_new"
   ]
  },
  {
   "cell_type": "code",
   "execution_count": 5,
   "metadata": {},
   "outputs": [],
   "source": [
    "dict1 = {'Xpvc': 0, 'Xfiller': 1, 'Xfr': 2, 'Xstabiliser': 3, 'Xdinp': 4, 'Xldh':5, \"Xsph\": 6}\n",
    "\n",
    "experimental_file = 'experimental.csv'\n",
    "response_file = 'Response.csv'\n",
    "\n",
    "y, X_linear, linear_terms, experimental_df, response_df = import_data(experimental_file, response_file, response)\n",
    "\n",
    "models = np.array(df_model['Model'])\n",
    "list_AIC = []\n",
    "list_AICc = []\n",
    "list_BIC = []\n",
    "list_CN = []\n",
    "\n",
    "for model in models:\n",
    "    \n",
    "    cnt = 0                  \n",
    "    a = model.split('--')[1:-1]\n",
    "    i = []\n",
    "    for b in a:\n",
    "        if len(b.split('*')) == 1:\n",
    "            i.append([b, dict1[b]])\n",
    "        else:\n",
    "            i.append([b, dict1[b.split('*')[0]], dict1[b.split('*')[1]]])\n",
    "            \n",
    "    X = X_gen(i, X_linear)\n",
    "    \n",
    "    model_fit = sm.OLS(y, X)\n",
    "    results = model_fit.fit()\n",
    "    \n",
    "    list_AIC.append(results.aic)\n",
    "    list_BIC.append(results.bic)\n",
    "    list_AICc.append(st.eval_measures.aicc(results.llf, results.nobs, results.df_model))\n",
    "    list_CN.append(results.condition_number)\n",
    "    \n",
    "col_list = ['AIC', 'AICc', 'BIC', 'Cond_No']\n",
    "col_list2 = [list_AIC, list_AICc, list_BIC, list_CN]\n",
    "\n",
    "for i, j in zip(col_list, col_list2):\n",
    "    df_model[i] = j\n",
    "    \n",
    "df_model.to_csv('Total_model_subset_{}_AIC_BIC_AICc.csv'.format(response))"
   ]
  },
  {
   "cell_type": "code",
   "execution_count": 6,
   "metadata": {},
   "outputs": [
    {
     "name": "stdout",
     "output_type": "stream",
     "text": [
      "2809.596301317215\n"
     ]
    }
   ],
   "source": [
    "end = time.time()\n",
    "print(end - start)"
   ]
  }
 ],
 "metadata": {
  "kernelspec": {
   "display_name": "Python 3",
   "language": "python",
   "name": "python3"
  },
  "language_info": {
   "codemirror_mode": {
    "name": "ipython",
    "version": 3
   },
   "file_extension": ".py",
   "mimetype": "text/x-python",
   "name": "python",
   "nbconvert_exporter": "python",
   "pygments_lexer": "ipython3",
   "version": "3.7.4"
  }
 },
 "nbformat": 4,
 "nbformat_minor": 4
}
